{
 "cells": [
  {
   "cell_type": "markdown",
   "id": "bf6a6cef",
   "metadata": {},
   "source": [
    "# 🎯 Mood Meets Media: Mood-Based Recommendation Engine"
   ]
  },
  {
   "cell_type": "code",
   "execution_count": null,
   "id": "d1920e47",
   "metadata": {},
   "outputs": [],
   "source": [
    "import pandas as pd\n",
    "import random"
   ]
  },
  {
   "cell_type": "code",
   "execution_count": null,
   "id": "61f332fd",
   "metadata": {},
   "outputs": [],
   "source": [
    "# Load processed datasets\n",
    "mood_logs = pd.read_csv(\"data/processed/enriched_mood_logs.csv\")\n",
    "media = pd.read_csv(\"data/processed/merged_media_metadata.csv\")"
   ]
  },
  {
   "cell_type": "code",
   "execution_count": null,
   "id": "e60797c4",
   "metadata": {},
   "outputs": [],
   "source": [
    "# Define recommendation function\n",
    "def recommend_by_mood(user_mood, media_df, top_n=5):\n",
    "    mood_filtered = media_df[media_df['mood_tag_standard'] == user_mood]\n",
    "    if len(mood_filtered) >= top_n:\n",
    "        return mood_filtered.sample(n=top_n, random_state=42)\n",
    "    else:\n",
    "        return mood_filtered"
   ]
  },
  {
   "cell_type": "code",
   "execution_count": null,
   "id": "61a3be20",
   "metadata": {},
   "outputs": [],
   "source": [
    "# Get most recent mood and recommend content\n",
    "latest_mood = mood_logs.sort_values(by=\"date\", ascending=False)[\"mood\"].iloc[0]\n",
    "print(f\"🧠 Latest detected mood: {latest_mood}\\n\")\n",
    "recommendations = recommend_by_mood(latest_mood, media)\n",
    "recommendations[[\"title\", \"type\", \"genre\", \"tags\", \"mood_tag_standard\"]]"
   ]
  }
 ],
 "metadata": {},
 "nbformat": 4,
 "nbformat_minor": 5
}
