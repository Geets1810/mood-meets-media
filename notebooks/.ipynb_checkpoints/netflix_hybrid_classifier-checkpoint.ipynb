{
 "cells": [
  {
   "cell_type": "markdown",
   "id": "8f49549e",
   "metadata": {},
   "source": [
    "# 🎬 Hybrid Mood Classifier for Netflix Dataset"
   ]
  },
  {
   "cell_type": "code",
   "execution_count": null,
   "id": "4d200cd7",
   "metadata": {},
   "outputs": [],
   "source": [
    "import pandas as pd\n",
    "from transformers import pipeline"
   ]
  },
  {
   "cell_type": "code",
   "execution_count": null,
   "id": "cf5b13d6",
   "metadata": {},
   "outputs": [],
   "source": [
    "# Load Netflix dataset\n",
    "df = pd.read_csv(\"data/external/netflix_titles.csv\", encoding=\"cp1252\")\n",
    "df = df[[\"title\", \"type\", \"listed_in\", \"description\"]].dropna()\n"
   ]
  },
  {
   "cell_type": "code",
   "execution_count": null,
   "id": "53bfd3a4",
   "metadata": {},
   "outputs": [],
   "source": [
    "# Load Hugging Face classifier\n",
    "classifier = pipeline(\"text-classification\", model=\"j-hartmann/emotion-english-distilroberta-base\", top_k=1)"
   ]
  },
  {
   "cell_type": "code",
   "execution_count": null,
   "id": "fcf5c95f",
   "metadata": {},
   "outputs": [],
   "source": [
    "# Define keyword-based and hybrid mood detection functions\n",
    "def keyword_mood(desc):\n",
    "    desc = desc.lower()\n",
    "    if \"thriller\" in desc or \"dark\" in desc or \"survival\" in desc:\n",
    "        return \"Tense\"\n",
    "    elif \"romantic\" in desc or \"love\" in desc:\n",
    "        return \"Happy\"\n",
    "    elif \"tragedy\" in desc or \"death\" in desc or \"loss\" in desc:\n",
    "        return \"Sad\"\n",
    "    elif \"funny\" in desc or \"comedy\" in desc or \"laugh\" in desc:\n",
    "        return \"Happy\"\n",
    "    elif \"mystery\" in desc or \"investigation\" in desc:\n",
    "        return \"Anxious\"\n",
    "    elif \"exciting\" in desc or \"adventure\" in desc:\n",
    "        return \"Excited\"\n",
    "    return \"Neutral\"\n",
    "\n",
    "def hybrid_mood(row):\n",
    "    desc_mood = keyword_mood(row['description'])\n",
    "    if desc_mood == \"Neutral\":\n",
    "        result = classifier(row['description'][:512])\n",
    "        return result[0]['label']\n",
    "    return desc_mood"
   ]
  },
  {
   "cell_type": "code",
   "execution_count": null,
   "id": "9687809b",
   "metadata": {},
   "outputs": [],
   "source": [
    "# Apply hybrid mood classifier\n",
    "df[\"mood_tag\"] = df.apply(hybrid_mood, axis=1)"
   ]
  },
  {
   "cell_type": "code",
   "execution_count": null,
   "id": "d6a7f23b",
   "metadata": {},
   "outputs": [],
   "source": [
    "# Format and save\n",
    "df = df.rename(columns={\"listed_in\": \"genre\", \"description\": \"tags\"})\n",
    "df.to_csv(\"data/processed/netflix_enriched_metadata_hybrid.csv\", index=False)\n",
    "print(\"✅ Hybrid mood-tagged metadata saved to: data/processed/netflix_enriched_metadata_hybrid.csv\")"
   ]
  }
 ],
 "metadata": {},
 "nbformat": 4,
 "nbformat_minor": 5
}
