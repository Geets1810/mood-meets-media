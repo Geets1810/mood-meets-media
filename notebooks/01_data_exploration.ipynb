{
 "cells": [
  {
   "cell_type": "markdown",
   "metadata": {},
   "source": [
    "# Mood Meets Media - Data Exploration"
   ]
  },
  {
   "cell_type": "markdown",
   "metadata": {},
   "source": [
    "This notebook explores mood logs, journal entries, and media metadata."
   ]
  },
  {
   "cell_type": "markdown",
   "metadata": {},
   "source": [
    "## Load and Inspect Data"
   ]
  },
  {
   "cell_type": "code",
   "execution_count": 17,
   "metadata": {},
   "outputs": [],
   "source": [
    "import pandas as pd\n",
    "import matplotlib.pyplot as plt\n",
    "\n",
    "# Load mood logs\n",
    "mood_df = pd.read_csv(\"C:/Users/Vanathi//mood-meets-media/data/raw/mood_logs.csv\")\n",
    "media_df = pd.read_csv(\"C:/Users/Vanathi//mood-meets-media/data/raw/media_metadata.csv\")\n",
    "\n",
    "# Convert date to datetime\n",
    "mood_df['date'] = pd.to_datetime(mood_df['date'])\n",
    "\n",
    "# Basic cleaning\n",
    "mood_df['mood'] = mood_df['mood'].str.title().str.strip()\n"
   ]
  },
  {
   "cell_type": "code",
   "execution_count": 20,
   "metadata": {},
   "outputs": [],
   "source": [
    "train_df = pd.read_csv(\"C:/Users/Vanathi//mood-meets-media/data/external/emotion_dataset/training.csv\")\n",
    "test_df = pd.read_csv(\"C:/Users/Vanathi//mood-meets-media/data/external/emotion_dataset/test.csv\")\n",
    "val_df = pd.read_csv(\"C:/Users/Vanathi//mood-meets-media/data/external/emotion_dataset/validation.csv\")"
   ]
  },
  {
   "cell_type": "code",
   "execution_count": 52,
   "metadata": {},
   "outputs": [],
   "source": [
    "# Combine all\n",
    "emotion_df = pd.concat([train_df, test_df, val_df], ignore_index=True)\n",
    "emotion_df.to_csv(\"C:/Users/Vanathi//mood-meets-media/data/processed/enriched_mood_logs.csv\", index=False)\n"
   ]
  },
  {
   "cell_type": "code",
   "execution_count": 53,
   "metadata": {},
   "outputs": [],
   "source": [
    "# Map labels\n",
    "emotion_mapping = {\n",
    "    1: 'Happy',\n",
    "    2: 'Happy',\n",
    "    5: 'Excited',\n",
    "    3: 'Stressed',\n",
    "    4: 'Anxious',\n",
    "    0: 'Sad'\n",
    "}"
   ]
  },
  {
   "cell_type": "code",
   "execution_count": 54,
   "metadata": {},
   "outputs": [],
   "source": [
    "emotion_df = emotion_df.rename(columns={\"text\": \"journal_entry\", \"label\": \"mood\"})\n",
    "emotion_df[\"mood\"] = emotion_df[\"mood\"].map(emotion_mapping)\n",
    "#emotion_df = emotion_df.dropna(subset=[\"mood\"])\n",
    "emotion_df.to_csv(\"C:/Users/Vanathi//mood-meets-media/data/processed/enriched_mood_logs.csv\", index=False)"
   ]
  },
  {
   "cell_type": "code",
   "execution_count": 55,
   "metadata": {},
   "outputs": [],
   "source": [
    "# Add fake date column\n",
    "start_date = datetime.strptime(\"2025-01-01\", \"%Y-%m-%d\")\n",
    "emotion_df[\"date\"] = [start_date + timedelta(days=int(i)) for i in range(len(emotion_df))]"
   ]
  },
  {
   "cell_type": "code",
   "execution_count": 57,
   "metadata": {},
   "outputs": [],
   "source": [
    "# Reorder columns and save\n",
    "emotion_df = emotion_df[[\"date\", \"mood\", \"journal_entry\"]]\n",
    "os.makedirs(\"data/processed\", exist_ok=True)\n",
    "emotion_df.to_csv(\"C:/Users/Vanathi//mood-meets-media/data/processed/enriched_mood_logs.csv\", index=False)"
   ]
  },
  {
   "cell_type": "code",
   "execution_count": 58,
   "metadata": {},
   "outputs": [
    {
     "name": "stdout",
     "output_type": "stream",
     "text": [
      "✅ Enriched mood log saved to data/processed/enriched_mood_logs.csv\n"
     ]
    }
   ],
   "source": [
    "print(\"✅ Enriched mood log saved to data/processed/enriched_mood_logs.csv\")"
   ]
  },
  {
   "cell_type": "markdown",
   "metadata": {},
   "source": [
    "## Visualize Mood Trends"
   ]
  },
  {
   "cell_type": "code",
   "execution_count": null,
   "metadata": {},
   "outputs": [],
   "source": []
  },
  {
   "cell_type": "code",
   "execution_count": null,
   "metadata": {},
   "outputs": [],
   "source": []
  },
  {
   "cell_type": "code",
   "execution_count": 2,
   "metadata": {},
   "outputs": [
    {
     "data": {
      "image/png": "[encoded data removed]",
      "text/plain": [
       "<Figure size 432x288 with 1 Axes>"
      ]
     },
     "metadata": {
      "needs_background": "light"
     },
     "output_type": "display_data"
    }
   ],
   "source": [
    "# Visualize mood counts\n",
    "mood_counts = mood_df['mood'].value_counts()\n",
    "mood_counts.plot(kind='bar', title='Mood Distribution')\n",
    "plt.ylabel(\"Number of Days\")\n",
    "plt.xlabel(\"Mood\")\n",
    "plt.grid(True)\n",
    "plt.show()"
   ]
  },
  {
   "cell_type": "markdown",
   "metadata": {},
   "source": [
    "## Summary Statistics"
   ]
  },
  {
   "cell_type": "code",
   "execution_count": 7,
   "metadata": {},
   "outputs": [
    {
     "data": {
      "text/html": [
       "<div>\n",
       "<style scoped>\n",
       "    .dataframe tbody tr th:only-of-type {\n",
       "        vertical-align: middle;\n",
       "    }\n",
       "\n",
       "    .dataframe tbody tr th {\n",
       "        vertical-align: top;\n",
       "    }\n",
       "\n",
       "    .dataframe thead th {\n",
       "        text-align: right;\n",
       "    }\n",
       "</style>\n",
       "<table border=\"1\" class=\"dataframe\">\n",
       "  <thead>\n",
       "    <tr style=\"text-align: right;\">\n",
       "      <th></th>\n",
       "      <th>date</th>\n",
       "      <th>mood</th>\n",
       "      <th>journal_entry</th>\n",
       "    </tr>\n",
       "  </thead>\n",
       "  <tbody>\n",
       "    <tr>\n",
       "      <th>0</th>\n",
       "      <td>2025-04-01</td>\n",
       "      <td>Happy</td>\n",
       "      <td>Feeling really good today, had a productive mo...</td>\n",
       "    </tr>\n",
       "    <tr>\n",
       "      <th>1</th>\n",
       "      <td>2025-04-02</td>\n",
       "      <td>Anxious</td>\n",
       "      <td>Nervous about the presentation tomorrow.</td>\n",
       "    </tr>\n",
       "    <tr>\n",
       "      <th>2</th>\n",
       "      <td>2025-04-03</td>\n",
       "      <td>Tired</td>\n",
       "      <td>Exhausted from barely sleeping last night.</td>\n",
       "    </tr>\n",
       "    <tr>\n",
       "      <th>3</th>\n",
       "      <td>2025-04-04</td>\n",
       "      <td>Excited</td>\n",
       "      <td>Pumped after my workout!</td>\n",
       "    </tr>\n",
       "    <tr>\n",
       "      <th>4</th>\n",
       "      <td>2025-04-05</td>\n",
       "      <td>Neutral</td>\n",
       "      <td>Just an average day.</td>\n",
       "    </tr>\n",
       "  </tbody>\n",
       "</table>\n",
       "</div>"
      ],
      "text/plain": [
       "        date     mood                                      journal_entry\n",
       "0 2025-04-01    Happy  Feeling really good today, had a productive mo...\n",
       "1 2025-04-02  Anxious           Nervous about the presentation tomorrow.\n",
       "2 2025-04-03    Tired         Exhausted from barely sleeping last night.\n",
       "3 2025-04-04  Excited                           Pumped after my workout!\n",
       "4 2025-04-05  Neutral                               Just an average day."
      ]
     },
     "execution_count": 7,
     "metadata": {},
     "output_type": "execute_result"
    }
   ],
   "source": [
    "# Show head of dataset\n",
    "mood_df.head()"
   ]
  },
  {
   "cell_type": "code",
   "execution_count": null,
   "metadata": {},
   "outputs": [],
   "source": []
  }
 ],
 "metadata": {
  "kernelspec": {
   "display_name": "Python 3",
   "language": "python",
   "name": "python3"
  },
  "language_info": {
   "codemirror_mode": {
    "name": "ipython",
    "version": 3
   },
   "file_extension": ".py",
   "mimetype": "text/x-python",
   "name": "python",
   "nbconvert_exporter": "python",
   "pygments_lexer": "ipython3",
   "version": "3.8.5"
  }
 },
 "nbformat": 4,
 "nbformat_minor": 5
}
