{
 "cells": [
  {
   "cell_type": "markdown",
   "metadata": {},
   "source": [
    "# 🎬 Hybrid Mood Classifier for Netflix Dataset"
   ]
  },
  {
   "cell_type": "code",
   "execution_count": 1,
   "metadata": {},
   "outputs": [],
   "source": [
    "import pandas as pd\n",
    "from transformers import pipeline"
   ]
  },
  {
   "cell_type": "code",
   "execution_count": 5,
   "metadata": {},
   "outputs": [],
   "source": [
    "# Load Netflix dataset\n",
    "df = pd.read_csv(\"C:/Users/Vanathi/mood-meets-media/data/external/netflix_titles.csv\", encoding=\"ISO-8859-1\")\n",
    "df = df[[\"title\", \"type\", \"listed_in\", \"description\"]].dropna()\n"
   ]
  },
  {
   "cell_type": "code",
   "execution_count": 6,
   "metadata": {},
   "outputs": [],
   "source": [
    "# Load Hugging Face classifier\n",
    "classifier = pipeline(\"text-classification\", model=\"j-hartmann/emotion-english-distilroberta-base\", top_k=1)"
   ]
  },
  {
   "cell_type": "code",
   "execution_count": 9,
   "metadata": {},
   "outputs": [],
   "source": [
    "# Define keyword-based and hybrid mood detection functions\n",
    "def keyword_mood(desc):\n",
    "    desc = desc.lower()\n",
    "    if \"thriller\" in desc or \"dark\" in desc or \"survival\" in desc:\n",
    "        return \"Tense\"\n",
    "    elif \"romantic\" in desc or \"love\" in desc:\n",
    "        return \"Happy\"\n",
    "    elif \"tragedy\" in desc or \"death\" in desc or \"loss\" in desc:\n",
    "        return \"Sad\"\n",
    "    elif \"funny\" in desc or \"comedy\" in desc or \"laugh\" in desc:\n",
    "        return \"Happy\"\n",
    "    elif \"mystery\" in desc or \"investigation\" in desc:\n",
    "        return \"Anxious\"\n",
    "    elif \"exciting\" in desc or \"adventure\" in desc:\n",
    "        return \"Excited\"\n",
    "    return \"Neutral\"\n",
    "\n",
    "def hybrid_mood(row):\n",
    "    desc_mood = keyword_mood(row['description'])\n",
    "    if desc_mood == \"Neutral\":\n",
    "        result = classifier(row['description'][:512])\n",
    "        return result[0][0]['label']\n",
    "    return desc_mood"
   ]
  },
  {
   "cell_type": "code",
   "execution_count": 10,
   "metadata": {},
   "outputs": [],
   "source": [
    "# Apply hybrid mood classifier\n",
    "df[\"mood_tag\"] = df.apply(hybrid_mood, axis=1)"
   ]
  },
  {
   "cell_type": "code",
   "execution_count": 17,
   "metadata": {},
   "outputs": [],
   "source": [
    "# Align mood_tag with mood_logs schema\n",
    "mood_standard_map = {\n",
    "    \"joy\": \"Happy\",\n",
    "    \"love\": \"Happy\",\n",
    "    \"surprise\": \"Excited\",\n",
    "    \"anger\": \"Stressed\",\n",
    "    \"fear\": \"Anxious\",\n",
    "    \"sadness\": \"Sad\",\n",
    "    \n",
    "    # Hybrid classifier additions\n",
    "    \"Happy\": \"Happy\",\n",
    "    \"Sad\": \"Sad\",\n",
    "    \"Excited\": \"Excited\",\n",
    "    \"Anxious\": \"Anxious\",\n",
    "    \"Tense\": \"Stressed\",\n",
    "    \"Stressed\": \"Stressed\",\n",
    "    \"Neutral\": \"Neutral\",\n",
    "    \"neutral\": \"Neutral\",\n",
    "    \"disgust\": \"Stressed\"\n",
    "}\n"
   ]
  },
  {
   "cell_type": "code",
   "execution_count": 18,
   "metadata": {},
   "outputs": [],
   "source": [
    "# Apply to your Netflix dataframe\n",
    "df[\"mood_tag_standard\"] = df[\"mood_tag\"].map(mood_standard_map)\n"
   ]
  },
  {
   "cell_type": "code",
   "execution_count": 19,
   "metadata": {},
   "outputs": [
    {
     "name": "stdout",
     "output_type": "stream",
     "text": [
      "['Sad' 'disgust' 'anger' 'neutral' 'fear' 'Anxious' 'Excited' 'Happy'\n",
      " 'sadness' 'joy' 'Tense' 'surprise']\n",
      "['Sad' 'Stressed' 'Neutral' 'Anxious' 'Excited' 'Happy']\n"
     ]
    }
   ],
   "source": [
    "print(df[\"mood_tag\"].unique())\n",
    "print(df[\"mood_tag_standard\"].unique())"
   ]
  },
  {
   "cell_type": "code",
   "execution_count": 20,
   "metadata": {},
   "outputs": [
    {
     "name": "stdout",
     "output_type": "stream",
     "text": [
      "✅ Hybrid mood-tagged metadata saved to: data/processed/netflix_enriched_metadata_hybrid.csv\n"
     ]
    }
   ],
   "source": [
    "# Format and save\n",
    "df = df.rename(columns={\"listed_in\": \"genre\", \"description\": \"tags\"})\n",
    "df.to_csv(\"C:/Users/Vanathi/mood-meets-media/data/processed/netflix_enriched_metadata_hybrid.csv\", index=False)\n",
    "print(\"✅ Hybrid mood-tagged metadata saved to: data/processed/netflix_enriched_metadata_hybrid.csv\")"
   ]
  },
  {
   "cell_type": "code",
   "execution_count": null,
   "metadata": {},
   "outputs": [],
   "source": []
  }
 ],
 "metadata": {
  "kernelspec": {
   "display_name": "Python 3",
   "language": "python",
   "name": "python3"
  },
  "language_info": {
   "codemirror_mode": {
    "name": "ipython",
    "version": 3
   },
   "file_extension": ".py",
   "mimetype": "text/x-python",
   "name": "python",
   "nbconvert_exporter": "python",
   "pygments_lexer": "ipython3",
   "version": "3.8.5"
  }
 },
 "nbformat": 4,
 "nbformat_minor": 5
}
